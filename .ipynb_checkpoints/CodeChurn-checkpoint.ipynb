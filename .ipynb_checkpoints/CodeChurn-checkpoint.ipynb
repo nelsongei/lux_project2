{
 "cells": [
  {
   "cell_type": "code",
   "execution_count": 4,
   "id": "64a43e19-1e19-4a21-aa9f-b09e3d8e56a5",
   "metadata": {},
   "outputs": [],
   "source": [
    "import pyforest"
   ]
  },
  {
   "cell_type": "code",
   "execution_count": 5,
   "id": "3fe9634f-7568-4232-8ee3-3cb434656753",
   "metadata": {},
   "outputs": [
    {
     "data": {
      "text/plain": [
       "(161, 44)"
      ]
     },
     "execution_count": 5,
     "metadata": {},
     "output_type": "execute_result"
    }
   ],
   "source": [
    "data.shape"
   ]
  },
  {
   "cell_type": "code",
   "execution_count": 7,
   "id": "63116b8f-c5d0-41b1-8726-b2698edbc918",
   "metadata": {},
   "outputs": [
    {
     "data": {
      "application/javascript": [
       "\n",
       "        if (window._pyforest_update_imports_cell) { window._pyforest_update_imports_cell('import pandas as pd'); }\n",
       "    "
      ],
      "text/plain": [
       "<IPython.core.display.Javascript object>"
      ]
     },
     "metadata": {},
     "output_type": "display_data"
    },
    {
     "data": {
      "application/javascript": [
       "\n",
       "        if (window._pyforest_update_imports_cell) { window._pyforest_update_imports_cell('import pandas as pd'); }\n",
       "    "
      ],
      "text/plain": [
       "<IPython.core.display.Javascript object>"
      ]
     },
     "metadata": {},
     "output_type": "display_data"
    },
    {
     "name": "stdout",
     "output_type": "stream",
     "text": [
      "    customer_id first_name   last_name  age                     email  \\\n",
      "0             1       Olly  Jakubovics   38  ojakubovics0@plala.or.jp   \n",
      "7             8       Susi    Lakenton   82   slakenton7@mashable.com   \n",
      "9            10   Dennison       Ramme   20    dramme9@guardian.co.uk   \n",
      "20           21      Boris      Munden   74         bmundenk@ehow.com   \n",
      "23           24     Suzann       Magne   58         smagnen@nymag.com   \n",
      "\n",
      "    phone_number               address               city  \\\n",
      "0   455-120-5128  353 Southridge Plaza               Beja   \n",
      "7   501-313-6717    9418 Grover Street        Little Rock   \n",
      "9   106-407-9098      5514 Upham Point         Leeuwarden   \n",
      "20  810-628-0230       4 Westend Plaza      Hisings Kärra   \n",
      "23  704-373-7697          1 Melby Pass  Oliveira do Conde   \n",
      "\n",
      "                  state postal_code  ... device_brand_Samsung  \\\n",
      "0                  Beja    7800-009  ...                False   \n",
      "7              Arkansas       72204  ...                False   \n",
      "9   Provincie Friesland        8914  ...                False   \n",
      "20      Västra Götaland      425 33  ...                False   \n",
      "23                Viseu    3430-345  ...                False   \n",
      "\n",
      "   device_model_Galaxy S10 device_model_Pixel 4  device_model_V40 ThinQ  \\\n",
      "0                    False                False                    True   \n",
      "7                    False                False                    True   \n",
      "9                    False                False                    True   \n",
      "20                   False                 True                   False   \n",
      "23                    True                False                   False   \n",
      "\n",
      "    device_model_iPhone X  customer_segment_high-value  \\\n",
      "0                   False                        False   \n",
      "7                   False                        False   \n",
      "9                   False                        False   \n",
      "20                  False                        False   \n",
      "23                  False                         True   \n",
      "\n",
      "    customer_segment_low-value customer_segment_medium-value  \\\n",
      "0                         True                         False   \n",
      "7                         True                         False   \n",
      "9                        False                          True   \n",
      "20                        True                         False   \n",
      "23                       False                         False   \n",
      "\n",
      "   customer_referral_False customer_referral_True  \n",
      "0                    False                   True  \n",
      "7                     True                  False  \n",
      "9                    False                   True  \n",
      "20                   False                   True  \n",
      "23                    True                  False  \n",
      "\n",
      "[5 rows x 44 columns]\n"
     ]
    }
   ],
   "source": [
    "from sklearn.preprocessing import MinMaxScaler\n",
    "\n",
    "# Sample data (replace this with your actual data loading code)\n",
    "data = pd.read_csv('data.csv')\n",
    "\n",
    "# Handle Missing Values\n",
    "data.dropna(inplace=True)\n",
    "# List of categorical columns to one-hot encode\n",
    "categorical_columns = ['device_type', 'device_brand', 'device_model', 'customer_segment', 'customer_referral']\n",
    "\n",
    "# Encode Categorical Variables using one-hot encoding\n",
    "data = pd.get_dummies(data, columns=categorical_columns)\n",
    "\n",
    "# Normalize numerical features, if needed\n",
    "scaler = MinMaxScaler()\n",
    "data['data_usage'] = scaler.fit_transform(data['data_usage'].values.reshape(-1, 1))\n",
    "\n",
    "# Display the updated DataFrame\n",
    "#print(data.head())"
   ]
  },
  {
   "cell_type": "code",
   "execution_count": 20,
   "id": "e8eb1970-3cfd-4be6-b1e9-a7cceafd4df2",
   "metadata": {},
   "outputs": [],
   "source": [
    "import xgboost as xgb\n",
    "from sklearn.model_selection import train_test_split\n",
    "from sklearn.metrics import accuracy_score,precision_score,recall_score,f1_score,roc_auc_score\n",
    "# Define the list of feature column names\n",
    "features = [\n",
    "    'customer_id', 'first_name', 'last_name', 'age', 'email', 'phone_number', 'address', 'city', 'state', 'postal_code',\n",
    "    'country', 'account_balance', 'monthly_payment', 'contract_length', 'data_usage', 'voice_usage', 'text_usage',\n",
    "    'plan_type', 'customer_since', 'last_payment_date','customer_rating', 'customer_complaints', 'customer_satisfaction', 'customer_engagement', 'customer_lifetime_value'\n",
    "]\n",
    "#split data into train and test sets\n",
    "X_train, X_test, y_train, y_test= train_test_split(data[features], data['customer_id'],test_size=0.5,random_state=42)"
   ]
  },
  {
   "cell_type": "code",
   "execution_count": null,
   "id": "bc554f6c-c7dc-4b63-b880-3eaf4a895bb9",
   "metadata": {},
   "outputs": [],
   "source": []
  }
 ],
 "metadata": {
  "kernelspec": {
   "display_name": "Python 3 (ipykernel)",
   "language": "python",
   "name": "python3"
  },
  "language_info": {
   "codemirror_mode": {
    "name": "ipython",
    "version": 3
   },
   "file_extension": ".py",
   "mimetype": "text/x-python",
   "name": "python",
   "nbconvert_exporter": "python",
   "pygments_lexer": "ipython3",
   "version": "3.10.12"
  }
 },
 "nbformat": 4,
 "nbformat_minor": 5
}
