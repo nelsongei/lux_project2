{
 "cells": [
  {
   "cell_type": "code",
   "execution_count": 4,
   "id": "64a43e19-1e19-4a21-aa9f-b09e3d8e56a5",
   "metadata": {},
   "outputs": [],
   "source": [
    "import pyforest"
   ]
  },
  {
   "cell_type": "code",
   "execution_count": 5,
   "id": "3fe9634f-7568-4232-8ee3-3cb434656753",
   "metadata": {},
   "outputs": [
    {
     "data": {
      "text/plain": [
       "(161, 44)"
      ]
     },
     "execution_count": 5,
     "metadata": {},
     "output_type": "execute_result"
    }
   ],
   "source": [
    "data.shape"
   ]
  },
  {
   "cell_type": "code",
   "execution_count": 7,
   "id": "63116b8f-c5d0-41b1-8726-b2698edbc918",
   "metadata": {},
   "outputs": [
    {
     "data": {
      "application/javascript": [
       "\n",
       "        if (window._pyforest_update_imports_cell) { window._pyforest_update_imports_cell('import pandas as pd'); }\n",
       "    "
      ],
      "text/plain": [
       "<IPython.core.display.Javascript object>"
      ]
     },
     "metadata": {},
     "output_type": "display_data"
    },
    {
     "data": {
      "application/javascript": [
       "\n",
       "        if (window._pyforest_update_imports_cell) { window._pyforest_update_imports_cell('import pandas as pd'); }\n",
       "    "
      ],
      "text/plain": [
       "<IPython.core.display.Javascript object>"
      ]
     },
     "metadata": {},
     "output_type": "display_data"
    },
    {
     "name": "stdout",
     "output_type": "stream",
     "text": [
      "    customer_id first_name   last_name  age                     email  \\\n",
      "0             1       Olly  Jakubovics   38  ojakubovics0@plala.or.jp   \n",
      "7             8       Susi    Lakenton   82   slakenton7@mashable.com   \n",
      "9            10   Dennison       Ramme   20    dramme9@guardian.co.uk   \n",
      "20           21      Boris      Munden   74         bmundenk@ehow.com   \n",
      "23           24     Suzann       Magne   58         smagnen@nymag.com   \n",
      "\n",
      "    phone_number               address               city  \\\n",
      "0   455-120-5128  353 Southridge Plaza               Beja   \n",
      "7   501-313-6717    9418 Grover Street        Little Rock   \n",
      "9   106-407-9098      5514 Upham Point         Leeuwarden   \n",
      "20  810-628-0230       4 Westend Plaza      Hisings Kärra   \n",
      "23  704-373-7697          1 Melby Pass  Oliveira do Conde   \n",
      "\n",
      "                  state postal_code  ... device_brand_Samsung  \\\n",
      "0                  Beja    7800-009  ...                False   \n",
      "7              Arkansas       72204  ...                False   \n",
      "9   Provincie Friesland        8914  ...                False   \n",
      "20      Västra Götaland      425 33  ...                False   \n",
      "23                Viseu    3430-345  ...                False   \n",
      "\n",
      "   device_model_Galaxy S10 device_model_Pixel 4  device_model_V40 ThinQ  \\\n",
      "0                    False                False                    True   \n",
      "7                    False                False                    True   \n",
      "9                    False                False                    True   \n",
      "20                   False                 True                   False   \n",
      "23                    True                False                   False   \n",
      "\n",
      "    device_model_iPhone X  customer_segment_high-value  \\\n",
      "0                   False                        False   \n",
      "7                   False                        False   \n",
      "9                   False                        False   \n",
      "20                  False                        False   \n",
      "23                  False                         True   \n",
      "\n",
      "    customer_segment_low-value customer_segment_medium-value  \\\n",
      "0                         True                         False   \n",
      "7                         True                         False   \n",
      "9                        False                          True   \n",
      "20                        True                         False   \n",
      "23                       False                         False   \n",
      "\n",
      "   customer_referral_False customer_referral_True  \n",
      "0                    False                   True  \n",
      "7                     True                  False  \n",
      "9                    False                   True  \n",
      "20                   False                   True  \n",
      "23                    True                  False  \n",
      "\n",
      "[5 rows x 44 columns]\n"
     ]
    }
   ],
   "source": [
    "from sklearn.preprocessing import MinMaxScaler\n",
    "\n",
    "# Sample data (replace this with your actual data loading code)\n",
    "data = pd.read_csv('data.csv')\n",
    "\n",
    "# Handle Missing Values\n",
    "data.dropna(inplace=True)\n",
    "# List of categorical columns to one-hot encode\n",
    "categorical_columns = ['device_type', 'device_brand', 'device_model', 'customer_segment', 'customer_referral']\n",
    "\n",
    "# Encode Categorical Variables using one-hot encoding\n",
    "data = pd.get_dummies(data, columns=categorical_columns)\n",
    "\n",
    "# Normalize numerical features, if needed\n",
    "scaler = MinMaxScaler()\n",
    "data['data_usage'] = scaler.fit_transform(data['data_usage'].values.reshape(-1, 1))\n",
    "\n",
    "# Display the updated DataFrame\n",
    "#print(data.head())"
   ]
  },
  {
   "cell_type": "code",
   "execution_count": 34,
   "id": "e8eb1970-3cfd-4be6-b1e9-a7cceafd4df2",
   "metadata": {},
   "outputs": [],
   "source": [
    "import xgboost as xgb\n",
    "from sklearn.model_selection import train_test_split\n",
    "from sklearn.metrics import accuracy_score,precision_score,recall_score,f1_score,roc_auc_score\n",
    "# Define the list of feature column names\n",
    "features = [\n",
    "    'customer_id', 'first_name', 'last_name', 'age', 'email', 'phone_number', 'address', 'city', 'state', 'postal_code',\n",
    "    'country', 'account_balance', 'monthly_payment', 'contract_length', 'data_usage', 'voice_usage', 'text_usage',\n",
    "    'plan_type', 'customer_since', 'last_payment_date','customer_rating', 'customer_complaints', 'customer_satisfaction', 'customer_engagement', 'customer_lifetime_value'\n",
    "]\n",
    "#split data into train and test sets\n",
    "X_train, X_test, y_train, y_test= train_test_split(data[features], data['customer_id'],test_size=0.5,random_state=42)"
   ]
  },
  {
   "cell_type": "code",
   "execution_count": 35,
   "id": "bc554f6c-c7dc-4b63-b880-3eaf4a895bb9",
   "metadata": {},
   "outputs": [
    {
     "ename": "ValueError",
     "evalue": "Invalid classes inferred from unique values of `y`.  Expected: [ 0  1  2  3  4  5  6  7  8  9 10 11 12 13 14 15 16 17 18 19 20 21 22 23\n 24 25 26 27 28 29 30 31 32 33 34 35 36 37 38 39 40 41 42 43 44 45 46 47\n 48 49 50 51 52 53 54 55 56 57 58 59 60 61 62 63 64 65 66 67 68 69 70 71\n 72 73 74 75 76 77 78 79 80], got [  1  10  24  29  56  64  67  76 102 106 117 120 142 156 159 163 166 184\n 185 188 190 204 205 242 280 285 286 296 297 331 341 353 384 411 412 414\n 423 425 436 501 504 511 524 527 533 536 538 574 602 604 611 612 617 629\n 633 645 648 677 680 701 717 732 736 758 764 782 800 802 803 840 841 852\n 863 866 882 885 894 901 908 921 945]",
     "output_type": "error",
     "traceback": [
      "\u001b[0;31m---------------------------------------------------------------------------\u001b[0m",
      "\u001b[0;31mValueError\u001b[0m                                Traceback (most recent call last)",
      "Cell \u001b[0;32mIn[35], line 5\u001b[0m\n\u001b[1;32m      2\u001b[0m classifier \u001b[38;5;241m=\u001b[39m xgb\u001b[38;5;241m.\u001b[39mXGBClassifier()\n\u001b[1;32m      4\u001b[0m \u001b[38;5;66;03m# Train the model on the training data\u001b[39;00m\n\u001b[0;32m----> 5\u001b[0m \u001b[43mclassifier\u001b[49m\u001b[38;5;241;43m.\u001b[39;49m\u001b[43mfit\u001b[49m\u001b[43m(\u001b[49m\u001b[43mX_train\u001b[49m\u001b[43m,\u001b[49m\u001b[43m \u001b[49m\u001b[43my_test\u001b[49m\u001b[43m)\u001b[49m\n\u001b[1;32m      7\u001b[0m \u001b[38;5;66;03m# Make predictions on the test data\u001b[39;00m\n\u001b[1;32m      8\u001b[0m y_pred \u001b[38;5;241m=\u001b[39m classifier\u001b[38;5;241m.\u001b[39mpredict(X_test)\n",
      "File \u001b[0;32m~/.local/lib/python3.10/site-packages/xgboost/core.py:729\u001b[0m, in \u001b[0;36mrequire_keyword_args.<locals>.throw_if.<locals>.inner_f\u001b[0;34m(*args, **kwargs)\u001b[0m\n\u001b[1;32m    727\u001b[0m \u001b[38;5;28;01mfor\u001b[39;00m k, arg \u001b[38;5;129;01min\u001b[39;00m \u001b[38;5;28mzip\u001b[39m(sig\u001b[38;5;241m.\u001b[39mparameters, args):\n\u001b[1;32m    728\u001b[0m     kwargs[k] \u001b[38;5;241m=\u001b[39m arg\n\u001b[0;32m--> 729\u001b[0m \u001b[38;5;28;01mreturn\u001b[39;00m \u001b[43mfunc\u001b[49m\u001b[43m(\u001b[49m\u001b[38;5;241;43m*\u001b[39;49m\u001b[38;5;241;43m*\u001b[39;49m\u001b[43mkwargs\u001b[49m\u001b[43m)\u001b[49m\n",
      "File \u001b[0;32m~/.local/lib/python3.10/site-packages/xgboost/sklearn.py:1467\u001b[0m, in \u001b[0;36mXGBClassifier.fit\u001b[0;34m(self, X, y, sample_weight, base_margin, eval_set, eval_metric, early_stopping_rounds, verbose, xgb_model, sample_weight_eval_set, base_margin_eval_set, feature_weights, callbacks)\u001b[0m\n\u001b[1;32m   1462\u001b[0m     expected_classes \u001b[38;5;241m=\u001b[39m \u001b[38;5;28mself\u001b[39m\u001b[38;5;241m.\u001b[39mclasses_\n\u001b[1;32m   1463\u001b[0m \u001b[38;5;28;01mif\u001b[39;00m (\n\u001b[1;32m   1464\u001b[0m     classes\u001b[38;5;241m.\u001b[39mshape \u001b[38;5;241m!=\u001b[39m expected_classes\u001b[38;5;241m.\u001b[39mshape\n\u001b[1;32m   1465\u001b[0m     \u001b[38;5;129;01mor\u001b[39;00m \u001b[38;5;129;01mnot\u001b[39;00m (classes \u001b[38;5;241m==\u001b[39m expected_classes)\u001b[38;5;241m.\u001b[39mall()\n\u001b[1;32m   1466\u001b[0m ):\n\u001b[0;32m-> 1467\u001b[0m     \u001b[38;5;28;01mraise\u001b[39;00m \u001b[38;5;167;01mValueError\u001b[39;00m(\n\u001b[1;32m   1468\u001b[0m         \u001b[38;5;124mf\u001b[39m\u001b[38;5;124m\"\u001b[39m\u001b[38;5;124mInvalid classes inferred from unique values of `y`.  \u001b[39m\u001b[38;5;124m\"\u001b[39m\n\u001b[1;32m   1469\u001b[0m         \u001b[38;5;124mf\u001b[39m\u001b[38;5;124m\"\u001b[39m\u001b[38;5;124mExpected: \u001b[39m\u001b[38;5;132;01m{\u001b[39;00mexpected_classes\u001b[38;5;132;01m}\u001b[39;00m\u001b[38;5;124m, got \u001b[39m\u001b[38;5;132;01m{\u001b[39;00mclasses\u001b[38;5;132;01m}\u001b[39;00m\u001b[38;5;124m\"\u001b[39m\n\u001b[1;32m   1470\u001b[0m     )\n\u001b[1;32m   1472\u001b[0m params \u001b[38;5;241m=\u001b[39m \u001b[38;5;28mself\u001b[39m\u001b[38;5;241m.\u001b[39mget_xgb_params()\n\u001b[1;32m   1474\u001b[0m \u001b[38;5;28;01mif\u001b[39;00m \u001b[38;5;28mcallable\u001b[39m(\u001b[38;5;28mself\u001b[39m\u001b[38;5;241m.\u001b[39mobjective):\n",
      "\u001b[0;31mValueError\u001b[0m: Invalid classes inferred from unique values of `y`.  Expected: [ 0  1  2  3  4  5  6  7  8  9 10 11 12 13 14 15 16 17 18 19 20 21 22 23\n 24 25 26 27 28 29 30 31 32 33 34 35 36 37 38 39 40 41 42 43 44 45 46 47\n 48 49 50 51 52 53 54 55 56 57 58 59 60 61 62 63 64 65 66 67 68 69 70 71\n 72 73 74 75 76 77 78 79 80], got [  1  10  24  29  56  64  67  76 102 106 117 120 142 156 159 163 166 184\n 185 188 190 204 205 242 280 285 286 296 297 331 341 353 384 411 412 414\n 423 425 436 501 504 511 524 527 533 536 538 574 602 604 611 612 617 629\n 633 645 648 677 680 701 717 732 736 758 764 782 800 802 803 840 841 852\n 863 866 882 885 894 901 908 921 945]"
     ]
    }
   ],
   "source": [
    "# Initialize an XGBoost classifier\n",
    "classifier = xgb.XGBClassifier()\n",
    "\n",
    "# Train the model on the training data\n",
    "classifier.fit(X_train, y_test)\n",
    "\n",
    "# Make predictions on the test data\n",
    "y_pred = classifier.predict(X_test)\n",
    "\n",
    "# Evaluate the model's performance using various metrics\n",
    "accuracy = accuracy_score(y_test, y_pred)\n",
    "precision = precision_score(y_test, y_pred, average='micro')\n",
    "recall = recall_score(y_test, y_pred, average='micro')\n",
    "f1 = f1_score(y_test, y_pred, average='micro')\n",
    "roc_auc = roc_auc_score(y_test, y_pred, average='micro')\n",
    "\n",
    "# Print the evaluation metrics\n",
    "print(f\"Accuracy: {accuracy}\")\n",
    "print(f\"Precision: {precision}\")\n",
    "print(f\"Recall: {recall}\")\n",
    "print(f\"F1 Score: {f1}\")\n",
    "print(f\"ROC AUC Score: {roc_auc}\")\n"
   ]
  }
 ],
 "metadata": {
  "kernelspec": {
   "display_name": "Python 3 (ipykernel)",
   "language": "python",
   "name": "python3"
  },
  "language_info": {
   "codemirror_mode": {
    "name": "ipython",
    "version": 3
   },
   "file_extension": ".py",
   "mimetype": "text/x-python",
   "name": "python",
   "nbconvert_exporter": "python",
   "pygments_lexer": "ipython3",
   "version": "3.10.12"
  }
 },
 "nbformat": 4,
 "nbformat_minor": 5
}
