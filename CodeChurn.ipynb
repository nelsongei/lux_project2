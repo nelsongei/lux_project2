{
 "cells": [
  {
   "cell_type": "code",
   "execution_count": 1,
   "id": "64a43e19-1e19-4a21-aa9f-b09e3d8e56a5",
   "metadata": {},
   "outputs": [],
   "source": [
    "import pyforest"
   ]
  },
  {
   "cell_type": "code",
   "execution_count": 2,
   "id": "3fe9634f-7568-4232-8ee3-3cb434656753",
   "metadata": {},
   "outputs": [
    {
     "ename": "NameError",
     "evalue": "name 'data' is not defined",
     "output_type": "error",
     "traceback": [
      "\u001b[0;31m---------------------------------------------------------------------------\u001b[0m",
      "\u001b[0;31mNameError\u001b[0m                                 Traceback (most recent call last)",
      "\u001b[1;32m/home/toor/Documents/data_science/lux_project2/CodeChurn.ipynb Cell 2\u001b[0m line \u001b[0;36m1\n\u001b[0;32m----> <a href='vscode-notebook-cell:/home/toor/Documents/data_science/lux_project2/CodeChurn.ipynb#W1sZmlsZQ%3D%3D?line=0'>1</a>\u001b[0m data\u001b[39m.\u001b[39mshape\n",
      "\u001b[0;31mNameError\u001b[0m: name 'data' is not defined"
     ]
    }
   ],
   "source": [
    "data.shape"
   ]
  },
  {
   "cell_type": "code",
   "execution_count": 3,
   "id": "63116b8f-c5d0-41b1-8726-b2698edbc918",
   "metadata": {},
   "outputs": [
    {
     "data": {
      "application/javascript": "\n        if (window._pyforest_update_imports_cell) { window._pyforest_update_imports_cell('import pandas as pd'); }\n    ",
      "text/plain": [
       "<IPython.core.display.Javascript object>"
      ]
     },
     "metadata": {},
     "output_type": "display_data"
    },
    {
     "data": {
      "application/javascript": "\n        if (window._pyforest_update_imports_cell) { window._pyforest_update_imports_cell('import pandas as pd'); }\n    ",
      "text/plain": [
       "<IPython.core.display.Javascript object>"
      ]
     },
     "metadata": {},
     "output_type": "display_data"
    },
    {
     "name": "stdout",
     "output_type": "stream",
     "text": [
      "    customer_id first_name   last_name  age                     email  \\\n",
      "0             1       Olly  Jakubovics   38  ojakubovics0@plala.or.jp   \n",
      "7             8       Susi    Lakenton   82   slakenton7@mashable.com   \n",
      "9            10   Dennison       Ramme   20    dramme9@guardian.co.uk   \n",
      "20           21      Boris      Munden   74         bmundenk@ehow.com   \n",
      "23           24     Suzann       Magne   58         smagnen@nymag.com   \n",
      "\n",
      "    phone_number               address               city  \\\n",
      "0   455-120-5128  353 Southridge Plaza               Beja   \n",
      "7   501-313-6717    9418 Grover Street        Little Rock   \n",
      "9   106-407-9098      5514 Upham Point         Leeuwarden   \n",
      "20  810-628-0230       4 Westend Plaza      Hisings Kärra   \n",
      "23  704-373-7697          1 Melby Pass  Oliveira do Conde   \n",
      "\n",
      "                  state postal_code  ... device_brand_Samsung  \\\n",
      "0                  Beja    7800-009  ...                False   \n",
      "7              Arkansas       72204  ...                False   \n",
      "9   Provincie Friesland        8914  ...                False   \n",
      "20      Västra Götaland      425 33  ...                False   \n",
      "23                Viseu    3430-345  ...                False   \n",
      "\n",
      "   device_model_Galaxy S10 device_model_Pixel 4  device_model_V40 ThinQ  \\\n",
      "0                    False                False                    True   \n",
      "7                    False                False                    True   \n",
      "9                    False                False                    True   \n",
      "20                   False                 True                   False   \n",
      "23                    True                False                   False   \n",
      "\n",
      "    device_model_iPhone X  customer_segment_high-value  \\\n",
      "0                   False                        False   \n",
      "7                   False                        False   \n",
      "9                   False                        False   \n",
      "20                  False                        False   \n",
      "23                  False                         True   \n",
      "\n",
      "    customer_segment_low-value customer_segment_medium-value  \\\n",
      "0                         True                         False   \n",
      "7                         True                         False   \n",
      "9                        False                          True   \n",
      "20                        True                         False   \n",
      "23                       False                         False   \n",
      "\n",
      "   customer_referral_False customer_referral_True  \n",
      "0                    False                   True  \n",
      "7                     True                  False  \n",
      "9                    False                   True  \n",
      "20                   False                   True  \n",
      "23                    True                  False  \n",
      "\n",
      "[5 rows x 44 columns]\n"
     ]
    }
   ],
   "source": [
    "from sklearn.preprocessing import MinMaxScaler\n",
    "\n",
    "# Sample data (replace this with your actual data loading code)\n",
    "data = pd.read_csv('data.csv')\n",
    "\n",
    "# Handle Missing Values\n",
    "data.dropna(inplace=True)\n",
    "# List of categorical columns to one-hot encode\n",
    "categorical_columns = ['device_type', 'device_brand', 'device_model', 'customer_segment', 'customer_referral']\n",
    "\n",
    "# Encode Categorical Variables using one-hot encoding\n",
    "data = pd.get_dummies(data, columns=categorical_columns)\n",
    "\n",
    "# Normalize numerical features, if needed\n",
    "scaler = MinMaxScaler()\n",
    "data['data_usage'] = scaler.fit_transform(data['data_usage'].values.reshape(-1, 1))\n",
    "\n",
    "# Display the updated DataFrame\n",
    "print(data.head())\n"
   ]
  },
  {
   "cell_type": "code",
   "execution_count": 5,
   "id": "e8eb1970-3cfd-4be6-b1e9-a7cceafd4df2",
   "metadata": {},
   "outputs": [
    {
     "ename": "KeyError",
     "evalue": "'churn_label'",
     "output_type": "error",
     "traceback": [
      "\u001b[0;31m---------------------------------------------------------------------------\u001b[0m",
      "\u001b[0;31mKeyError\u001b[0m                                  Traceback (most recent call last)",
      "File \u001b[0;32m~/.local/lib/python3.10/site-packages/pandas/core/indexes/base.py:3790\u001b[0m, in \u001b[0;36mIndex.get_loc\u001b[0;34m(self, key)\u001b[0m\n\u001b[1;32m   3789\u001b[0m \u001b[39mtry\u001b[39;00m:\n\u001b[0;32m-> 3790\u001b[0m     \u001b[39mreturn\u001b[39;00m \u001b[39mself\u001b[39;49m\u001b[39m.\u001b[39;49m_engine\u001b[39m.\u001b[39;49mget_loc(casted_key)\n\u001b[1;32m   3791\u001b[0m \u001b[39mexcept\u001b[39;00m \u001b[39mKeyError\u001b[39;00m \u001b[39mas\u001b[39;00m err:\n",
      "File \u001b[0;32mindex.pyx:152\u001b[0m, in \u001b[0;36mpandas._libs.index.IndexEngine.get_loc\u001b[0;34m()\u001b[0m\n",
      "File \u001b[0;32mindex.pyx:181\u001b[0m, in \u001b[0;36mpandas._libs.index.IndexEngine.get_loc\u001b[0;34m()\u001b[0m\n",
      "File \u001b[0;32mpandas/_libs/hashtable_class_helper.pxi:7080\u001b[0m, in \u001b[0;36mpandas._libs.hashtable.PyObjectHashTable.get_item\u001b[0;34m()\u001b[0m\n",
      "File \u001b[0;32mpandas/_libs/hashtable_class_helper.pxi:7088\u001b[0m, in \u001b[0;36mpandas._libs.hashtable.PyObjectHashTable.get_item\u001b[0;34m()\u001b[0m\n",
      "\u001b[0;31mKeyError\u001b[0m: 'churn_label'",
      "\nThe above exception was the direct cause of the following exception:\n",
      "\u001b[0;31mKeyError\u001b[0m                                  Traceback (most recent call last)",
      "\u001b[1;32m/home/toor/Documents/data_science/lux_project2/CodeChurn.ipynb Cell 4\u001b[0m line \u001b[0;36m9\n\u001b[1;32m      <a href='vscode-notebook-cell:/home/toor/Documents/data_science/lux_project2/CodeChurn.ipynb#W3sZmlsZQ%3D%3D?line=4'>5</a>\u001b[0m features \u001b[39m=\u001b[39m [\n\u001b[1;32m      <a href='vscode-notebook-cell:/home/toor/Documents/data_science/lux_project2/CodeChurn.ipynb#W3sZmlsZQ%3D%3D?line=5'>6</a>\u001b[0m     \u001b[39m'\u001b[39m\u001b[39mcustomer_id\u001b[39m\u001b[39m'\u001b[39m, \u001b[39m'\u001b[39m\u001b[39mfirst_name\u001b[39m\u001b[39m'\u001b[39m\n\u001b[1;32m      <a href='vscode-notebook-cell:/home/toor/Documents/data_science/lux_project2/CodeChurn.ipynb#W3sZmlsZQ%3D%3D?line=6'>7</a>\u001b[0m ]\n\u001b[1;32m      <a href='vscode-notebook-cell:/home/toor/Documents/data_science/lux_project2/CodeChurn.ipynb#W3sZmlsZQ%3D%3D?line=7'>8</a>\u001b[0m \u001b[39m#split data into train and test sets\u001b[39;00m\n\u001b[0;32m----> <a href='vscode-notebook-cell:/home/toor/Documents/data_science/lux_project2/CodeChurn.ipynb#W3sZmlsZQ%3D%3D?line=8'>9</a>\u001b[0m X_train, X_test, y_train, y_test\u001b[39m=\u001b[39m train_test_split(data[features], data[\u001b[39m'\u001b[39;49m\u001b[39mchurn_label\u001b[39;49m\u001b[39m'\u001b[39;49m],test_size\u001b[39m=\u001b[39m\u001b[39m0.2\u001b[39m,random_state\u001b[39m=\u001b[39m\u001b[39m42\u001b[39m)\n",
      "File \u001b[0;32m~/.local/lib/python3.10/site-packages/pandas/core/frame.py:3896\u001b[0m, in \u001b[0;36mDataFrame.__getitem__\u001b[0;34m(self, key)\u001b[0m\n\u001b[1;32m   3894\u001b[0m \u001b[39mif\u001b[39;00m \u001b[39mself\u001b[39m\u001b[39m.\u001b[39mcolumns\u001b[39m.\u001b[39mnlevels \u001b[39m>\u001b[39m \u001b[39m1\u001b[39m:\n\u001b[1;32m   3895\u001b[0m     \u001b[39mreturn\u001b[39;00m \u001b[39mself\u001b[39m\u001b[39m.\u001b[39m_getitem_multilevel(key)\n\u001b[0;32m-> 3896\u001b[0m indexer \u001b[39m=\u001b[39m \u001b[39mself\u001b[39;49m\u001b[39m.\u001b[39;49mcolumns\u001b[39m.\u001b[39;49mget_loc(key)\n\u001b[1;32m   3897\u001b[0m \u001b[39mif\u001b[39;00m is_integer(indexer):\n\u001b[1;32m   3898\u001b[0m     indexer \u001b[39m=\u001b[39m [indexer]\n",
      "File \u001b[0;32m~/.local/lib/python3.10/site-packages/pandas/core/indexes/base.py:3797\u001b[0m, in \u001b[0;36mIndex.get_loc\u001b[0;34m(self, key)\u001b[0m\n\u001b[1;32m   3792\u001b[0m     \u001b[39mif\u001b[39;00m \u001b[39misinstance\u001b[39m(casted_key, \u001b[39mslice\u001b[39m) \u001b[39mor\u001b[39;00m (\n\u001b[1;32m   3793\u001b[0m         \u001b[39misinstance\u001b[39m(casted_key, abc\u001b[39m.\u001b[39mIterable)\n\u001b[1;32m   3794\u001b[0m         \u001b[39mand\u001b[39;00m \u001b[39many\u001b[39m(\u001b[39misinstance\u001b[39m(x, \u001b[39mslice\u001b[39m) \u001b[39mfor\u001b[39;00m x \u001b[39min\u001b[39;00m casted_key)\n\u001b[1;32m   3795\u001b[0m     ):\n\u001b[1;32m   3796\u001b[0m         \u001b[39mraise\u001b[39;00m InvalidIndexError(key)\n\u001b[0;32m-> 3797\u001b[0m     \u001b[39mraise\u001b[39;00m \u001b[39mKeyError\u001b[39;00m(key) \u001b[39mfrom\u001b[39;00m \u001b[39merr\u001b[39;00m\n\u001b[1;32m   3798\u001b[0m \u001b[39mexcept\u001b[39;00m \u001b[39mTypeError\u001b[39;00m:\n\u001b[1;32m   3799\u001b[0m     \u001b[39m# If we have a listlike key, _check_indexing_error will raise\u001b[39;00m\n\u001b[1;32m   3800\u001b[0m     \u001b[39m#  InvalidIndexError. Otherwise we fall through and re-raise\u001b[39;00m\n\u001b[1;32m   3801\u001b[0m     \u001b[39m#  the TypeError.\u001b[39;00m\n\u001b[1;32m   3802\u001b[0m     \u001b[39mself\u001b[39m\u001b[39m.\u001b[39m_check_indexing_error(key)\n",
      "\u001b[0;31mKeyError\u001b[0m: 'churn_label'"
     ]
    }
   ],
   "source": [
    "import xgboost as xgb\n",
    "from sklearn.model_selection import train_test_split\n",
    "from sklearn.metrics import accuracy_score,precision_score,recall_score,f1_score,roc_auc_score\n",
    "# Define the list of feature column names\n",
    "features = [\n",
    "    'customer_id', 'first_name', 'last_name', 'age', 'email', 'phone_number', 'address', 'city', 'state', 'postal_code',\n",
    "    'country', 'account_balance', 'monthly_payment', 'contract_length', 'data_usage', 'voice_usage', 'text_usage',\n",
    "    'plan_type', 'device_type', 'device_brand', 'device_model', 'customer_since', 'last_payment_date',\n",
    "    'customer_rating', 'customer_complaints', 'customer_satisfaction', 'customer_engagement', 'customer_lifetime_value',\n",
    "    'customer_segment', 'customer_referral', 'customer_loyalty',\n",
    "    'state_encoded', 'city_encoded', 'plan_type_category1', 'plan_type_category2', 'device_type_category1',\n",
    "    'device_type_category2', 'device_brand_category1', 'device_brand_category2', 'customer_segment_segment1',\n",
    "    'customer_segment_segment2', 'customer_referral_referral1', 'customer_referral_referral2', 'customer_loyalty_loyalty1',\n",
    "    'customer_loyalty_loyalty2'\n",
    "]\n",
    "#split data into train and test sets\n",
    "X_train, X_test, y_train, y_test= train_test_split(data[features], data['churn_label'],test_size=0.2,random_state=42)"
   ]
  },
  {
   "cell_type": "code",
   "execution_count": null,
   "id": "bc554f6c-c7dc-4b63-b880-3eaf4a895bb9",
   "metadata": {},
   "outputs": [],
   "source": []
  }
 ],
 "metadata": {
  "kernelspec": {
   "display_name": "Python 3 (ipykernel)",
   "language": "python",
   "name": "python3"
  },
  "language_info": {
   "codemirror_mode": {
    "name": "ipython",
    "version": 3
   },
   "file_extension": ".py",
   "mimetype": "text/x-python",
   "name": "python",
   "nbconvert_exporter": "python",
   "pygments_lexer": "ipython3",
   "version": "3.10.12"
  }
 },
 "nbformat": 4,
 "nbformat_minor": 5
}
